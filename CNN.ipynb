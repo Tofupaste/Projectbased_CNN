version https://git-lfs.github.com/spec/v1
oid sha256:136be02e99699a4ebe95e446b60361189e831769582b0984f2f576c4800b6bc3
size 105196
