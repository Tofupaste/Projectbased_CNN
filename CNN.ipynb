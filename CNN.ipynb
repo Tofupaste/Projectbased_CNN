version https://git-lfs.github.com/spec/v1
oid sha256:136f79de04dfa72f8d91e977d05c9b0e597f9e0f722e3e5b064e0da2ce155098
size 926889
