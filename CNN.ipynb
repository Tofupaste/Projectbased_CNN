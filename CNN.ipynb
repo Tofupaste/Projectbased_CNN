version https://git-lfs.github.com/spec/v1
oid sha256:ae870829dccac3843b6983de922b63affbb7091e65a88a77d9f16c59d1833ca6
size 506702
