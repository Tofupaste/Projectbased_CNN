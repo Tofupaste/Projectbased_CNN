version https://git-lfs.github.com/spec/v1
oid sha256:6230d8126cafbbd83d36ce945fb2a996ca9702777d079280da3fba2e07d2efb0
size 973896
