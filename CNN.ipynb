version https://git-lfs.github.com/spec/v1
oid sha256:c52a77e5a7ec6782d605534d3ebd71611717770190861b4d4ceabe8192245e59
size 42591
