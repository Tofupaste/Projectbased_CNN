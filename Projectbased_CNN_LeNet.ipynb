version https://git-lfs.github.com/spec/v1
oid sha256:dadb409e3be6d5efb1b97d909b47980635e247a3f04ba19a15f025db5986646c
size 9186097
