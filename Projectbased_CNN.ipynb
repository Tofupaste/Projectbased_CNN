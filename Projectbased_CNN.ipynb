version https://git-lfs.github.com/spec/v1
oid sha256:8cc959c025aaabfe97052f517a6575882b1f327245698f4c93ea4c1a09458af5
size 8935580
