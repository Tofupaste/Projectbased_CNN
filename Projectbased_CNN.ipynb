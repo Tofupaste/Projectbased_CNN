version https://git-lfs.github.com/spec/v1
oid sha256:ab51272a71d36bd7362c2433a4e21b421ec8c81ba391679de904d249fbe5611c
size 9169080
