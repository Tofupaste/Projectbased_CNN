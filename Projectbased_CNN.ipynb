version https://git-lfs.github.com/spec/v1
oid sha256:73159c3d52d156da6c32f71bfd114ddadcd415d21ee41c540f4ec82fff73bc35
size 9021981
