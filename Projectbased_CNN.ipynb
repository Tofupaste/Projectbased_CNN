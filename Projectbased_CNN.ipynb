version https://git-lfs.github.com/spec/v1
oid sha256:2d19e565df9467c08a118e210c4d146522466aff37dc206e96859b1ec8886735
size 9215399
