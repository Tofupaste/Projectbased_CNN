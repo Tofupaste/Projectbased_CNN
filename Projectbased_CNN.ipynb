version https://git-lfs.github.com/spec/v1
oid sha256:7e10ec5073e4091fede2b916b89d1cd2d2e050a857da4503152f88ad1c46ea78
size 51713
