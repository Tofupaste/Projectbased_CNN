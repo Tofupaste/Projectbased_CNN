version https://git-lfs.github.com/spec/v1
oid sha256:4fcc378950b8e81eb0a9ef006c805ad6372f42dd88fc91c47b0f597e844c5556
size 8635957
