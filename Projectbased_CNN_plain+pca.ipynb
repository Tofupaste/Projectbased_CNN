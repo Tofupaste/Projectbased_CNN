version https://git-lfs.github.com/spec/v1
oid sha256:cab309b034fe1713c08bb51c2ebde18a06b4ee79cac572d2b07fbf431cf570f3
size 8913195
