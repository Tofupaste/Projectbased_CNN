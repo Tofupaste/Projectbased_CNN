version https://git-lfs.github.com/spec/v1
oid sha256:58178cd5746fc11c9a9aa758873e75107fff4c910cea49278ec1ec2f499903bc
size 973937
