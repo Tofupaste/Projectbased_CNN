version https://git-lfs.github.com/spec/v1
oid sha256:01d434d194ed15a62289a7e9c9cad0615e8f44345f9a92544aec47ab5b597782
size 8991489
