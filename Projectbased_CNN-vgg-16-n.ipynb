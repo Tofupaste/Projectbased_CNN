version https://git-lfs.github.com/spec/v1
oid sha256:1a2408f156098f5524f81eda40454a43e91ef7ad57ff5bad5ffd12307612e93e
size 9063957
