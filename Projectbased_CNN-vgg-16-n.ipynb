version https://git-lfs.github.com/spec/v1
oid sha256:6811fb97f07ee2671115c9fe01eec7b4c5c87df366b3a2d935169911693d3065
size 8529017
